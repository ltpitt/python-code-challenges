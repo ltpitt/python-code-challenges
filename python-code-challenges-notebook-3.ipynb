{
 "cells": [
  {
   "cell_type": "markdown",
   "metadata": {},
   "source": [
    "## Build your version of os.walk\n",
    "#### Challenge found on [codementor.io](https://www.codementor.io/sheena/essential-python-interview-questions-du107ozr6)"
   ]
  },
  {
   "cell_type": "markdown",
   "metadata": {},
   "source": [
    "Try your implementation here:"
   ]
  },
  {
   "cell_type": "code",
   "execution_count": 46,
   "metadata": {
    "collapsed": true
   },
   "outputs": [],
   "source": [
    "def print_directory_contents(folder_path):\n",
    "    \"\"\"\n",
    "    This function takes the name of a directory \n",
    "    and prints out the paths files within that \n",
    "    directory as well as any files contained in \n",
    "    contained directories. \n",
    "\n",
    "    This function is similar to os.walk. Please don't\n",
    "    use os.walk in your answer. We are interested in your \n",
    "    ability to work with nested structures. \n",
    "    \"\"\"\n",
    "    pass"
   ]
  },
  {
   "cell_type": "code",
   "execution_count": 47,
   "metadata": {},
   "outputs": [
    {
     "data": {
      "text/html": [
       "<script>\n",
       "code_show=false; \n",
       "// Hide current jQuery code cell\n",
       "$(\"#visibility-toggle-form-1\").closest(\".cell\").find(\".input\").hide();\n",
       "// Hide next solution code cell\n",
       "$(\"#visibility-toggle-form-1\").closest(\".code_cell\").next(\".code_cell\").hide();\n",
       "function code_toggle_1() {\n",
       " if (code_show){\n",
       " $(\"#visibility-toggle-form-1\").closest(\".code_cell\").next(\".code_cell\").show();\n",
       " } else {\n",
       " $(\"#visibility-toggle-form-1\").closest(\".code_cell\").next(\".code_cell\").hide();\n",
       " }\n",
       " code_show = !code_show\n",
       "} \n",
       "$( document ).ready(code_toggle_1);\n",
       "</script>\n",
       "<form id=\"visibility-toggle-form-1\" action=\"javascript:code_toggle_1()\"><input type=\"submit\" value=\"Show / Hide my solution\"></form>"
      ],
      "text/plain": [
       "<IPython.core.display.HTML object>"
      ]
     },
     "execution_count": 47,
     "metadata": {},
     "output_type": "execute_result"
    }
   ],
   "source": [
    "from IPython.display import HTML\n",
    "\n",
    "HTML('''<script>\n",
    "code_show=false; \n",
    "// Hide current jQuery code cell\n",
    "$(\"#visibility-toggle-form-1\").closest(\".cell\").find(\".input\").hide();\n",
    "// Hide next solution code cell\n",
    "$(\"#visibility-toggle-form-1\").closest(\".code_cell\").next(\".code_cell\").hide();\n",
    "function code_toggle_1() {\n",
    " if (code_show){\n",
    " $(\"#visibility-toggle-form-1\").closest(\".code_cell\").next(\".code_cell\").show();\n",
    " } else {\n",
    " $(\"#visibility-toggle-form-1\").closest(\".code_cell\").next(\".code_cell\").hide();\n",
    " }\n",
    " code_show = !code_show\n",
    "} \n",
    "$( document ).ready(code_toggle_1);\n",
    "</script>\n",
    "<form id=\"visibility-toggle-form-1\" action=\"javascript:code_toggle_1()\"><input type=\"submit\" value=\"Show / Hide my solution\"></form>''')"
   ]
  },
  {
   "cell_type": "code",
   "execution_count": 48,
   "metadata": {},
   "outputs": [
    {
     "name": "stdout",
     "output_type": "stream",
     "text": [
      "C:\\Users\\Public\\Test\\example_file.txt.txt\n"
     ]
    }
   ],
   "source": [
    "import os\n",
    "\n",
    "def print_directory_contents(folder_path):\n",
    "    \"\"\"\n",
    "    This function takes the name of a directory \n",
    "    and prints out the paths files within that \n",
    "    directory as well as any files contained in \n",
    "    contained directories. \n",
    "\n",
    "    This function is similar to os.walk. Please don't\n",
    "    use os.walk in your answer. We are interested in your \n",
    "    ability to work with nested structures. \n",
    "    \"\"\"\n",
    "    if os.path.exists(folder_path) and os.path.isdir(folder_path):\n",
    "        for folder_child_element in os.listdir(folder_path):\n",
    "            folder_child_element_path = os.path.join(folder_path, folder_child_element)\n",
    "            if os.path.isdir(folder_child_element_path):\n",
    "                print_directory_contents(folder_child_element_path)\n",
    "            else:\n",
    "                print(folder_child_element_path)\n",
    "    else:\n",
    "        print (\"Path does not exist or it is not a directory\")\n",
    "\n",
    "#print_directory_contents(\"/etc/pulse\")\n",
    "print_directory_contents(\"C:\\\\Users\\\\Public\\\\Test\")\n",
    "    \n"
   ]
  },
  {
   "cell_type": "markdown",
   "metadata": {},
   "source": [
    "## Find duplicate files  \n",
    "#### Challenge found on https://www.interviewcake.com\n",
    "\n",
    "You left your computer unlocked and your friend decided to troll you by copying a lot of your files to random spots all over your file system.  \n",
    "Even worse, she saved the duplicate files with random, embarrassing names (\"this_is_like_a_digital_wedgie.txt\" was clever, I'll give her that).\n",
    "\n",
    "Write a function that returns a list of all the duplicate files. We'll check them by hand before actually deleting them, since programmatically deleting files is really scary.  To help us confirm that two files are actually duplicates, return a list of tuples ↴ where:\n",
    "\n",
    "the first item is the duplicate file\n",
    "the second item is the original file\n",
    "For example:\n",
    "\n",
    "  [('/tmp/parker_is_dumb.mpg', '/home/parker/secret_puppy_dance.mpg'),\n",
    " ('/home/trololol.mov', '/etc/apache2/httpd.conf')]\n",
    "You can assume each file was only duplicated once."
   ]
  },
  {
   "cell_type": "markdown",
   "metadata": {},
   "source": [
    "Try your implementation here:"
   ]
  },
  {
   "cell_type": "code",
   "execution_count": 49,
   "metadata": {
    "collapsed": true
   },
   "outputs": [],
   "source": [
    "def find_suplicate_files(folder_path):\n",
    "    \"\"\"\n",
    "    This function takes the name of a directory \n",
    "    and returns a list of all the duplicate files. \n",
    "\n",
    "    Returns a list of tuples where the 1st item\n",
    "    is the duplicate file and the 2nd the original. \n",
    "    \n",
    "    You can assume each file was only duplicated once.\n",
    "    \"\"\"\n",
    "    pass"
   ]
  },
  {
   "cell_type": "code",
   "execution_count": 50,
   "metadata": {},
   "outputs": [
    {
     "data": {
      "text/html": [
       "<script>\n",
       "code_show=false; \n",
       "// Hide current jQuery code cell\n",
       "$(\"#visibility-toggle-form-2\").closest(\".cell\").find(\".input\").hide();\n",
       "// Hide next solution code cell\n",
       "$(\"#visibility-toggle-form-2\").closest(\".code_cell\").next(\".code_cell\").hide();\n",
       "function code_toggle_2() {\n",
       " if (code_show){\n",
       " $(\"#visibility-toggle-form-2\").closest(\".code_cell\").next(\".code_cell\").show();\n",
       " } else {\n",
       " $(\"#visibility-toggle-form-2\").closest(\".code_cell\").next(\".code_cell\").hide();\n",
       " }\n",
       " code_show = !code_show\n",
       "} \n",
       "$( document ).ready(code_toggle_2);\n",
       "</script>\n",
       "<form id=\"visibility-toggle-form-2\" action=\"javascript:code_toggle_2()\"><input type=\"submit\" value=\"Show / Hide my solution\"></form>"
      ],
      "text/plain": [
       "<IPython.core.display.HTML object>"
      ]
     },
     "execution_count": 50,
     "metadata": {},
     "output_type": "execute_result"
    }
   ],
   "source": [
    "from IPython.display import HTML\n",
    "\n",
    "HTML('''<script>\n",
    "code_show=false; \n",
    "// Hide current jQuery code cell\n",
    "$(\"#visibility-toggle-form-2\").closest(\".cell\").find(\".input\").hide();\n",
    "// Hide next solution code cell\n",
    "$(\"#visibility-toggle-form-2\").closest(\".code_cell\").next(\".code_cell\").hide();\n",
    "function code_toggle_2() {\n",
    " if (code_show){\n",
    " $(\"#visibility-toggle-form-2\").closest(\".code_cell\").next(\".code_cell\").show();\n",
    " } else {\n",
    " $(\"#visibility-toggle-form-2\").closest(\".code_cell\").next(\".code_cell\").hide();\n",
    " }\n",
    " code_show = !code_show\n",
    "} \n",
    "$( document ).ready(code_toggle_2);\n",
    "</script>\n",
    "<form id=\"visibility-toggle-form-2\" action=\"javascript:code_toggle_2()\"><input type=\"submit\" value=\"Show / Hide my solution\"></form>''')"
   ]
  },
  {
   "cell_type": "code",
   "execution_count": 51,
   "metadata": {},
   "outputs": [
    {
     "name": "stdout",
     "output_type": "stream",
     "text": [
      "61d71e80c54ce046508004eb627fceca\n",
      "e62530bdfc0231afc2e817ee597bf7d9\n",
      "61d71e80c54ce046508004eb627fceca\n",
      "e62530bdfc0231afc2e817ee597bf7d9\n",
      "9711f2652b3d4d713dc827c50d9dd47e\n"
     ]
    }
   ],
   "source": [
    "import os\n",
    "import hashlib\n",
    "\n",
    "def md5(file_full_path):\n",
    "    return hashlib.md5(open(file_full_path, 'rb').read()).hexdigest()\n",
    "\n",
    "def find_duplicate_files(folder_path):\n",
    "    \"\"\"\n",
    "    This function takes the name of a directory \n",
    "    and returns a list of all the duplicate files. \n",
    "\n",
    "    Returns a list of tuples where the 1st item\n",
    "    is the duplicate file and the 2nd the original. \n",
    "    \n",
    "    You can assume each file was only duplicated once.\n",
    "    \"\"\"\n",
    "    files_to_check = [os.path.join(dirpath,f) for dirpath,dirnames,filenames in os.walk(folder_path) for f in filenames]\n",
    "    for file in files_to_check:\n",
    "        print (md5(file))\n",
    "\n",
    "        \n",
    "folder_to_check_for_duplicates = r'C:\\Users\\DNastri\\Scripts\\python-code-challenges\\test'\n",
    "find_duplicate_files(folder_to_check_for_duplicates)"
   ]
  }
 ],
 "metadata": {
  "kernelspec": {
   "display_name": "Python 3",
   "language": "python",
   "name": "python3"
  },
  "language_info": {
   "codemirror_mode": {
    "name": "ipython",
    "version": 3
   },
   "file_extension": ".py",
   "mimetype": "text/x-python",
   "name": "python",
   "nbconvert_exporter": "python",
   "pygments_lexer": "ipython3",
   "version": "3.5.3"
  }
 },
 "nbformat": 4,
 "nbformat_minor": 2
}
