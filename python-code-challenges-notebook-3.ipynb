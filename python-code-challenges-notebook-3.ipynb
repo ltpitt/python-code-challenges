{
 "cells": [
  {
   "cell_type": "markdown",
   "metadata": {},
   "source": [
    "### Python Code Challenges"
   ]
  },
  {
   "cell_type": "code",
   "execution_count": 2,
   "metadata": {},
   "outputs": [
    {
     "name": "stdout",
     "output_type": "stream",
     "text": [
      "/etc/pulse/default.pa\n",
      "/etc/pulse/client.conf\n",
      "/etc/pulse/system.pa\n",
      "/etc/pulse/daemon.conf\n"
     ]
    }
   ],
   "source": [
    "import os\n",
    "\n",
    "def print_directory_contents(folder_path):\n",
    "    \"\"\"\n",
    "    This function takes the name of a directory \n",
    "    and prints out the paths files within that \n",
    "    directory as well as any files contained in \n",
    "    contained directories. \n",
    "\n",
    "    This function is similar to os.walk. Please don't\n",
    "    use os.walk in your answer. We are interested in your \n",
    "    ability to work with nested structures. \n",
    "    \"\"\"\n",
    "    if os.path.exists(folder_path) and os.path.isdir(folder_path):\n",
    "        for folder_child_element in os.listdir(folder_path):\n",
    "            folder_child_element_path = os.path.join(folder_path, folder_child_element)\n",
    "            if os.path.isdir(folder_child_element_path):\n",
    "                print_directory_contents(folder_child_element_path)\n",
    "            else:\n",
    "                print(folder_child_element_path)\n",
    "    else:\n",
    "        print (\"Path does not exist or it is not a directory\")\n",
    "\n",
    "print_directory_contents(\"/etc/pulse\")\n",
    "    \n"
   ]
  },
  {
   "cell_type": "code",
   "execution_count": null,
   "metadata": {},
   "outputs": [],
   "source": []
  }
 ],
 "metadata": {
  "kernelspec": {
   "display_name": "Python 3",
   "language": "python",
   "name": "python3"
  },
  "language_info": {
   "codemirror_mode": {
    "name": "ipython",
    "version": 3
   },
   "file_extension": ".py",
   "mimetype": "text/x-python",
   "name": "python",
   "nbconvert_exporter": "python",
   "pygments_lexer": "ipython3",
   "version": "3.6.3"
  }
 },
 "nbformat": 4,
 "nbformat_minor": 2
}
